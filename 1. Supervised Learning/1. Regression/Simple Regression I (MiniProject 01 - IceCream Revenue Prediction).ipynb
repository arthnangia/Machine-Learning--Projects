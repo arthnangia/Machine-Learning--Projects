{
 "cells": [
  {
   "cell_type": "markdown",
   "id": "4ea997e9",
   "metadata": {},
   "source": [
    "# Simple Regression"
   ]
  },
  {
   "cell_type": "markdown",
   "id": "e3695afb",
   "metadata": {},
   "source": [
    "# Problem Statement\n",
    "\n",
    "You own an ice cream business and you would like to create a model that could predict the daily revenue in dollars based on the outside air temperature (degC). \n",
    "\n",
    "**Model Used:** Linear Regression model\n",
    "\n",
    "**Data set:** https://drive.google.com/file/d/1nbFloBk5HyRqBBIBk8cehyGP4G-Fonk5/view?usp=sharing\n",
    "\n",
    "**Independant variable X:** Outside Air Temperature\n",
    "\n",
    "**Dependant variable Y:** Overall daily revenue generated in dollars"
   ]
  },
  {
   "cell_type": "markdown",
   "id": "ffa45767",
   "metadata": {},
   "source": [
    "# Step: 01 Import Libraries"
   ]
  },
  {
   "cell_type": "code",
   "execution_count": 4,
   "id": "edf928cb",
   "metadata": {},
   "outputs": [],
   "source": [
    "import numpy as np\n",
    "import pandas as pd\n",
    "import matplotlib.pyplot as plt\n",
    "import seaborn as sns"
   ]
  },
  {
   "cell_type": "markdown",
   "id": "453d536b",
   "metadata": {},
   "source": [
    "# Step: 02 Import DataSet\n",
    "\n",
    "1. Download the dataset from the above link\n",
    "2. Change the location of dataset in the below snipet."
   ]
  },
  {
   "cell_type": "code",
   "execution_count": 6,
   "id": "a934fcfd",
   "metadata": {},
   "outputs": [],
   "source": [
    "dataset = pd.read_csv(\"C:/Users/hp/Documents/GitHub/Machine-Learning--Projects-/1. Supervised Learning/1. Regression/IceCreamData.csv\")"
   ]
  },
  {
   "cell_type": "code",
   "execution_count": 7,
   "id": "e38926b2",
   "metadata": {},
   "outputs": [
    {
     "name": "stdout",
     "output_type": "stream",
     "text": [
      "     Temperature     Revenue\n",
      "0      24.566884  534.799028\n",
      "1      26.005191  625.190122\n",
      "2      27.790554  660.632289\n",
      "3      20.595335  487.706960\n",
      "4      11.503498  316.240194\n",
      "..           ...         ...\n",
      "495    22.274899  524.746364\n",
      "496    32.893092  755.818399\n",
      "497    12.588157  306.090719\n",
      "498    22.362402  566.217304\n",
      "499    28.957736  655.660388\n",
      "\n",
      "[500 rows x 2 columns]\n"
     ]
    }
   ],
   "source": [
    "#verifing if dataset loaded is correct\n",
    "print(dataset)"
   ]
  },
  {
   "cell_type": "code",
   "execution_count": 8,
   "id": "057391cc",
   "metadata": {},
   "outputs": [
    {
     "data": {
      "text/html": [
       "<div>\n",
       "<style scoped>\n",
       "    .dataframe tbody tr th:only-of-type {\n",
       "        vertical-align: middle;\n",
       "    }\n",
       "\n",
       "    .dataframe tbody tr th {\n",
       "        vertical-align: top;\n",
       "    }\n",
       "\n",
       "    .dataframe thead th {\n",
       "        text-align: right;\n",
       "    }\n",
       "</style>\n",
       "<table border=\"1\" class=\"dataframe\">\n",
       "  <thead>\n",
       "    <tr style=\"text-align: right;\">\n",
       "      <th></th>\n",
       "      <th>Temperature</th>\n",
       "      <th>Revenue</th>\n",
       "    </tr>\n",
       "  </thead>\n",
       "  <tbody>\n",
       "    <tr>\n",
       "      <th>0</th>\n",
       "      <td>24.566884</td>\n",
       "      <td>534.799028</td>\n",
       "    </tr>\n",
       "    <tr>\n",
       "      <th>1</th>\n",
       "      <td>26.005191</td>\n",
       "      <td>625.190122</td>\n",
       "    </tr>\n",
       "    <tr>\n",
       "      <th>2</th>\n",
       "      <td>27.790554</td>\n",
       "      <td>660.632289</td>\n",
       "    </tr>\n",
       "    <tr>\n",
       "      <th>3</th>\n",
       "      <td>20.595335</td>\n",
       "      <td>487.706960</td>\n",
       "    </tr>\n",
       "    <tr>\n",
       "      <th>4</th>\n",
       "      <td>11.503498</td>\n",
       "      <td>316.240194</td>\n",
       "    </tr>\n",
       "    <tr>\n",
       "      <th>5</th>\n",
       "      <td>14.352514</td>\n",
       "      <td>367.940744</td>\n",
       "    </tr>\n",
       "  </tbody>\n",
       "</table>\n",
       "</div>"
      ],
      "text/plain": [
       "   Temperature     Revenue\n",
       "0    24.566884  534.799028\n",
       "1    26.005191  625.190122\n",
       "2    27.790554  660.632289\n",
       "3    20.595335  487.706960\n",
       "4    11.503498  316.240194\n",
       "5    14.352514  367.940744"
      ]
     },
     "execution_count": 8,
     "metadata": {},
     "output_type": "execute_result"
    }
   ],
   "source": [
    "dataset.head(6)\n"
   ]
  },
  {
   "cell_type": "code",
   "execution_count": 8,
   "id": "c3d44d85",
   "metadata": {},
   "outputs": [
    {
     "data": {
      "text/html": [
       "<div>\n",
       "<style scoped>\n",
       "    .dataframe tbody tr th:only-of-type {\n",
       "        vertical-align: middle;\n",
       "    }\n",
       "\n",
       "    .dataframe tbody tr th {\n",
       "        vertical-align: top;\n",
       "    }\n",
       "\n",
       "    .dataframe thead th {\n",
       "        text-align: right;\n",
       "    }\n",
       "</style>\n",
       "<table border=\"1\" class=\"dataframe\">\n",
       "  <thead>\n",
       "    <tr style=\"text-align: right;\">\n",
       "      <th></th>\n",
       "      <th>Temperature</th>\n",
       "      <th>Revenue</th>\n",
       "    </tr>\n",
       "  </thead>\n",
       "  <tbody>\n",
       "    <tr>\n",
       "      <th>count</th>\n",
       "      <td>500.000000</td>\n",
       "      <td>500.000000</td>\n",
       "    </tr>\n",
       "    <tr>\n",
       "      <th>mean</th>\n",
       "      <td>22.232225</td>\n",
       "      <td>521.570777</td>\n",
       "    </tr>\n",
       "    <tr>\n",
       "      <th>std</th>\n",
       "      <td>8.096388</td>\n",
       "      <td>175.404751</td>\n",
       "    </tr>\n",
       "    <tr>\n",
       "      <th>min</th>\n",
       "      <td>0.000000</td>\n",
       "      <td>10.000000</td>\n",
       "    </tr>\n",
       "    <tr>\n",
       "      <th>25%</th>\n",
       "      <td>17.122258</td>\n",
       "      <td>405.558681</td>\n",
       "    </tr>\n",
       "    <tr>\n",
       "      <th>50%</th>\n",
       "      <td>22.392791</td>\n",
       "      <td>529.368565</td>\n",
       "    </tr>\n",
       "    <tr>\n",
       "      <th>75%</th>\n",
       "      <td>27.740674</td>\n",
       "      <td>642.257922</td>\n",
       "    </tr>\n",
       "    <tr>\n",
       "      <th>max</th>\n",
       "      <td>45.000000</td>\n",
       "      <td>1000.000000</td>\n",
       "    </tr>\n",
       "  </tbody>\n",
       "</table>\n",
       "</div>"
      ],
      "text/plain": [
       "       Temperature      Revenue\n",
       "count   500.000000   500.000000\n",
       "mean     22.232225   521.570777\n",
       "std       8.096388   175.404751\n",
       "min       0.000000    10.000000\n",
       "25%      17.122258   405.558681\n",
       "50%      22.392791   529.368565\n",
       "75%      27.740674   642.257922\n",
       "max      45.000000  1000.000000"
      ]
     },
     "execution_count": 8,
     "metadata": {},
     "output_type": "execute_result"
    }
   ],
   "source": [
    "#finding insights to observe\n",
    "dataset.describe()"
   ]
  },
  {
   "cell_type": "code",
   "execution_count": 14,
   "id": "f5b69960",
   "metadata": {},
   "outputs": [
    {
     "name": "stdout",
     "output_type": "stream",
     "text": [
      "<class 'pandas.core.frame.DataFrame'>\n",
      "RangeIndex: 500 entries, 0 to 499\n",
      "Data columns (total 2 columns):\n",
      " #   Column       Non-Null Count  Dtype  \n",
      "---  ------       --------------  -----  \n",
      " 0   Temperature  500 non-null    float64\n",
      " 1   Revenue      500 non-null    float64\n",
      "dtypes: float64(2)\n",
      "memory usage: 7.9 KB\n"
     ]
    }
   ],
   "source": [
    "dataset.info()"
   ]
  },
  {
   "cell_type": "markdown",
   "id": "4aacf8e6",
   "metadata": {},
   "source": [
    "# Step: 03 Visualize Dataset"
   ]
  },
  {
   "cell_type": "code",
   "execution_count": 9,
   "id": "bfaaab38",
   "metadata": {},
   "outputs": [
    {
     "data": {
      "text/plain": [
       "<AxesSubplot:xlabel='Temperature', ylabel='Revenue'>"
      ]
     },
     "execution_count": 9,
     "metadata": {},
     "output_type": "execute_result"
    },
    {
     "data": {
      "image/png": "[encoded data removed]",
      "text/plain": [
       "<Figure size 432x288 with 1 Axes>"
      ]
     },
     "metadata": {
      "needs_background": "light"
     },
     "output_type": "display_data"
    }
   ],
   "source": [
    "sns.lineplot(x ='Temperature', y ='Revenue', data = dataset, color = 'blue')"
   ]
  },
  {
   "cell_type": "markdown",
   "id": "9fab9d37",
   "metadata": {},
   "source": [
    "# Step: 04 Creating Testing & Training Data"
   ]
  },
  {
   "cell_type": "code",
   "execution_count": 10,
   "id": "4e03a7ae",
   "metadata": {},
   "outputs": [],
   "source": [
    "x = dataset.iloc[: , :-1]\n",
    "y = dataset.iloc[: , 1: ]"
   ]
  },
  {
   "cell_type": "code",
   "execution_count": 11,
   "id": "cb305e55",
   "metadata": {},
   "outputs": [
    {
     "data": {
      "text/html": [
       "<div>\n",
       "<style scoped>\n",
       "    .dataframe tbody tr th:only-of-type {\n",
       "        vertical-align: middle;\n",
       "    }\n",
       "\n",
       "    .dataframe tbody tr th {\n",
       "        vertical-align: top;\n",
       "    }\n",
       "\n",
       "    .dataframe thead th {\n",
       "        text-align: right;\n",
       "    }\n",
       "</style>\n",
       "<table border=\"1\" class=\"dataframe\">\n",
       "  <thead>\n",
       "    <tr style=\"text-align: right;\">\n",
       "      <th></th>\n",
       "      <th>Revenue</th>\n",
       "    </tr>\n",
       "  </thead>\n",
       "  <tbody>\n",
       "    <tr>\n",
       "      <th>0</th>\n",
       "      <td>534.799028</td>\n",
       "    </tr>\n",
       "    <tr>\n",
       "      <th>1</th>\n",
       "      <td>625.190122</td>\n",
       "    </tr>\n",
       "    <tr>\n",
       "      <th>2</th>\n",
       "      <td>660.632289</td>\n",
       "    </tr>\n",
       "    <tr>\n",
       "      <th>3</th>\n",
       "      <td>487.706960</td>\n",
       "    </tr>\n",
       "    <tr>\n",
       "      <th>4</th>\n",
       "      <td>316.240194</td>\n",
       "    </tr>\n",
       "    <tr>\n",
       "      <th>...</th>\n",
       "      <td>...</td>\n",
       "    </tr>\n",
       "    <tr>\n",
       "      <th>495</th>\n",
       "      <td>524.746364</td>\n",
       "    </tr>\n",
       "    <tr>\n",
       "      <th>496</th>\n",
       "      <td>755.818399</td>\n",
       "    </tr>\n",
       "    <tr>\n",
       "      <th>497</th>\n",
       "      <td>306.090719</td>\n",
       "    </tr>\n",
       "    <tr>\n",
       "      <th>498</th>\n",
       "      <td>566.217304</td>\n",
       "    </tr>\n",
       "    <tr>\n",
       "      <th>499</th>\n",
       "      <td>655.660388</td>\n",
       "    </tr>\n",
       "  </tbody>\n",
       "</table>\n",
       "<p>500 rows × 1 columns</p>\n",
       "</div>"
      ],
      "text/plain": [
       "        Revenue\n",
       "0    534.799028\n",
       "1    625.190122\n",
       "2    660.632289\n",
       "3    487.706960\n",
       "4    316.240194\n",
       "..          ...\n",
       "495  524.746364\n",
       "496  755.818399\n",
       "497  306.090719\n",
       "498  566.217304\n",
       "499  655.660388\n",
       "\n",
       "[500 rows x 1 columns]"
      ]
     },
     "execution_count": 11,
     "metadata": {},
     "output_type": "execute_result"
    }
   ],
   "source": [
    "y"
   ]
  },
  {
   "cell_type": "code",
   "execution_count": 19,
   "id": "74553b49",
   "metadata": {},
   "outputs": [
    {
     "name": "stdout",
     "output_type": "stream",
     "text": [
      "     Temperature\n",
      "0      24.566884\n",
      "1      26.005191\n",
      "2      27.790554\n",
      "3      20.595335\n",
      "4      11.503498\n",
      "..           ...\n",
      "495    22.274899\n",
      "496    32.893092\n",
      "497    12.588157\n",
      "498    22.362402\n",
      "499    28.957736\n",
      "\n",
      "[500 rows x 1 columns]\n"
     ]
    }
   ],
   "source": [
    "print(x)"
   ]
  },
  {
   "cell_type": "code",
   "execution_count": 12,
   "id": "a5f6f134",
   "metadata": {},
   "outputs": [
    {
     "name": "stdout",
     "output_type": "stream",
     "text": [
      "        Revenue\n",
      "0    534.799028\n",
      "1    625.190122\n",
      "2    660.632289\n",
      "3    487.706960\n",
      "4    316.240194\n",
      "..          ...\n",
      "495  524.746364\n",
      "496  755.818399\n",
      "497  306.090719\n",
      "498  566.217304\n",
      "499  655.660388\n",
      "\n",
      "[500 rows x 1 columns]\n"
     ]
    }
   ],
   "source": [
    "print(y)"
   ]
  },
  {
   "cell_type": "code",
   "execution_count": 13,
   "id": "8a559c49",
   "metadata": {},
   "outputs": [],
   "source": [
    "from sklearn.model_selection import train_test_split\n",
    "\n",
    "X_train, X_test, y_train, y_test = train_test_split (x, y , test_size = 0.8 , random_state = 2)"
   ]
  },
  {
   "cell_type": "markdown",
   "id": "3dd4e533",
   "metadata": {},
   "source": [
    "# Step: 05 Training the Model"
   ]
  },
  {
   "cell_type": "code",
   "execution_count": 14,
   "id": "07a972df",
   "metadata": {},
   "outputs": [
    {
     "data": {
      "text/plain": [
       "LinearRegression()"
      ]
     },
     "execution_count": 14,
     "metadata": {},
     "output_type": "execute_result"
    }
   ],
   "source": [
    "from sklearn.linear_model import LinearRegression\n",
    "\n",
    "regressor = LinearRegression()\n",
    "regressor.fit(X_train,y_train)"
   ]
  },
  {
   "cell_type": "code",
   "execution_count": 15,
   "id": "bd40fadf",
   "metadata": {},
   "outputs": [],
   "source": [
    "y_pred = regressor.predict(X_test)"
   ]
  },
  {
   "cell_type": "code",
   "execution_count": 16,
   "id": "9d31a09c",
   "metadata": {},
   "outputs": [
    {
     "name": "stdout",
     "output_type": "stream",
     "text": [
      "[[729.68713616]\n",
      " [649.4447144 ]\n",
      " [703.15883229]\n",
      " [578.0746532 ]\n",
      " [504.46068364]\n",
      " [483.99504181]\n",
      " [597.94285493]\n",
      " [386.71044276]\n",
      " [788.26019905]\n",
      " [592.08608187]\n",
      " [508.89183965]\n",
      " [517.27740065]\n",
      " [285.39534386]\n",
      " [482.15266692]\n",
      " [665.9058841 ]\n",
      " [585.73550907]\n",
      " [492.54059987]\n",
      " [490.98002122]\n",
      " [653.30271223]\n",
      " [499.89482251]\n",
      " [566.11131192]\n",
      " [354.62111656]\n",
      " [255.53059654]\n",
      " [287.47466097]\n",
      " [190.43502663]\n",
      " [368.12666201]\n",
      " [672.99039397]\n",
      " [445.1648708 ]\n",
      " [364.71360865]\n",
      " [586.48238829]\n",
      " [471.73489891]\n",
      " [477.38559203]\n",
      " [601.84729451]\n",
      " [547.39531872]\n",
      " [617.60212601]\n",
      " [400.13730102]\n",
      " [483.86238506]\n",
      " [580.90428021]\n",
      " [264.85109441]\n",
      " [543.6583146 ]\n",
      " [527.7578128 ]\n",
      " [553.48190128]\n",
      " [409.34874667]\n",
      " [665.03889245]\n",
      " [625.32169388]\n",
      " [671.288435  ]\n",
      " [455.51854242]\n",
      " [272.18944591]\n",
      " [464.30595116]\n",
      " [524.19130003]\n",
      " [701.79271137]\n",
      " [654.9928798 ]\n",
      " [416.94592281]\n",
      " [475.4174163 ]\n",
      " [583.87737232]\n",
      " [737.06994743]\n",
      " [237.51263397]\n",
      " [298.30764056]\n",
      " [742.16112446]\n",
      " [645.96392899]\n",
      " [307.27904079]\n",
      " [730.47182213]\n",
      " [496.16064124]\n",
      " [517.14608581]\n",
      " [521.67046118]\n",
      " [507.88390319]\n",
      " [442.95119301]\n",
      " [468.38634207]\n",
      " [535.09347294]\n",
      " [450.80795404]\n",
      " [236.77145552]\n",
      " [588.32762895]\n",
      " [319.45870275]\n",
      " [567.44396693]\n",
      " [437.59253436]\n",
      " [310.2704473 ]\n",
      " [446.52701101]\n",
      " [881.33159655]\n",
      " [605.38271301]\n",
      " [413.34911979]\n",
      " [927.9536309 ]\n",
      " [595.02729559]\n",
      " [476.94745825]\n",
      " [447.32876158]\n",
      " [533.77078918]\n",
      " [749.65285224]\n",
      " [378.42916429]\n",
      " [472.54974113]\n",
      " [420.21939776]\n",
      " [545.43770825]\n",
      " [635.32462405]\n",
      " [450.81442616]\n",
      " [505.93020497]\n",
      " [423.180612  ]\n",
      " [599.47580139]\n",
      " [361.90208143]\n",
      " [667.18079298]\n",
      " [880.77141965]\n",
      " [690.12042298]\n",
      " [669.66331608]\n",
      " [633.87752345]\n",
      " [552.29257738]\n",
      " [639.69370899]\n",
      " [469.0501028 ]\n",
      " [542.32847217]\n",
      " [421.41622246]\n",
      " [581.94539007]\n",
      " [634.00229728]\n",
      " [699.04771394]\n",
      " [466.37194945]\n",
      " [296.22567983]\n",
      " [849.06053073]\n",
      " [491.0628426 ]\n",
      " [863.07988167]\n",
      " [400.09322524]\n",
      " [603.08425845]\n",
      " [ 59.03943349]\n",
      " [567.03140923]\n",
      " [423.84076995]\n",
      " [558.33681302]\n",
      " [630.76867263]\n",
      " [331.96028261]\n",
      " [451.78407493]\n",
      " [572.2521911 ]\n",
      " [241.71711977]\n",
      " [543.62300344]\n",
      " [621.23729503]\n",
      " [411.29085617]\n",
      " [503.36599826]\n",
      " [391.50828821]\n",
      " [464.20579612]\n",
      " [775.22370263]\n",
      " [584.72931317]\n",
      " [733.5075318 ]\n",
      " [675.45150449]\n",
      " [286.5440524 ]\n",
      " [319.11766415]\n",
      " [267.95855432]\n",
      " [576.65586192]\n",
      " [888.02099607]\n",
      " [181.041919  ]\n",
      " [559.80959983]\n",
      " [514.28925941]\n",
      " [293.29752696]\n",
      " [576.94607584]\n",
      " [943.62966382]\n",
      " [440.97486636]\n",
      " [477.31867467]\n",
      " [385.16824383]\n",
      " [308.66940028]\n",
      " [587.2945226 ]\n",
      " [573.10132836]\n",
      " [491.77542008]\n",
      " [527.37253908]\n",
      " [657.83361458]\n",
      " [165.22364976]\n",
      " [788.79109804]\n",
      " [523.4634069 ]\n",
      " [732.03032269]\n",
      " [516.56796135]\n",
      " [186.45567103]\n",
      " [786.97588381]\n",
      " [493.69732114]\n",
      " [312.07522587]\n",
      " [852.1530192 ]\n",
      " [790.82393173]\n",
      " [615.83496597]\n",
      " [604.89133851]\n",
      " [484.67175976]\n",
      " [446.5652407 ]\n",
      " [638.27256135]\n",
      " [313.7724223 ]\n",
      " [572.26216571]\n",
      " [202.26445764]\n",
      " [690.54288243]\n",
      " [540.18616649]\n",
      " [271.2743873 ]\n",
      " [660.51676832]\n",
      " [543.91165036]\n",
      " [518.79610263]\n",
      " [527.33573065]\n",
      " [560.99123534]\n",
      " [250.33765833]\n",
      " [338.71721026]\n",
      " [616.12523558]\n",
      " [571.91043976]\n",
      " [446.59605294]\n",
      " [500.64087678]\n",
      " [618.02286479]\n",
      " [645.40017422]\n",
      " [499.04733202]\n",
      " [427.63403821]\n",
      " [383.30327693]\n",
      " [340.46073035]\n",
      " [648.85078308]\n",
      " [755.1729422 ]\n",
      " [269.66147078]\n",
      " [829.35602266]\n",
      " [396.40250669]\n",
      " [795.86779389]\n",
      " [261.87188968]\n",
      " [809.65384476]\n",
      " [686.3618279 ]\n",
      " [561.04860857]\n",
      " [640.68160097]\n",
      " [711.16331196]\n",
      " [828.09014744]\n",
      " [461.62766297]\n",
      " [507.3802239 ]\n",
      " [793.21018608]\n",
      " [588.43722846]\n",
      " [456.53787706]\n",
      " [576.06806498]\n",
      " [393.87210758]\n",
      " [360.94145585]\n",
      " [688.50226989]\n",
      " [285.00282897]\n",
      " [473.25747462]\n",
      " [155.32966832]\n",
      " [440.93028473]\n",
      " [466.51319661]\n",
      " [394.78989984]\n",
      " [733.19715509]\n",
      " [621.45482278]\n",
      " [631.31527589]\n",
      " [309.09372195]\n",
      " [793.80801395]\n",
      " [725.70366915]\n",
      " [130.1789628 ]\n",
      " [253.55783972]\n",
      " [657.61591305]\n",
      " [525.11154601]\n",
      " [616.15385143]\n",
      " [306.01148593]\n",
      " [388.2948008 ]\n",
      " [175.35591764]\n",
      " [852.96680426]\n",
      " [601.76986024]\n",
      " [783.35873752]\n",
      " [403.19222331]\n",
      " [819.12937236]\n",
      " [600.47739367]\n",
      " [507.73377459]\n",
      " [608.93583744]\n",
      " [679.89631015]\n",
      " [448.9061741 ]\n",
      " [260.73990768]\n",
      " [558.08596719]\n",
      " [597.75027429]\n",
      " [550.96330363]\n",
      " [368.52053681]\n",
      " [243.43566464]\n",
      " [505.74695511]\n",
      " [176.11223548]\n",
      " [164.57655674]\n",
      " [448.83409052]\n",
      " [237.58277874]\n",
      " [448.76367779]\n",
      " [691.14898664]\n",
      " [396.09622166]\n",
      " [323.56144761]\n",
      " [410.43434981]\n",
      " [440.27709178]\n",
      " [555.63674898]\n",
      " [467.49876971]\n",
      " [471.84797369]\n",
      " [294.30766107]\n",
      " [536.85592112]\n",
      " [610.29335288]\n",
      " [665.70968203]\n",
      " [412.17340616]\n",
      " [649.3318557 ]\n",
      " [414.8824735 ]\n",
      " [543.0845469 ]\n",
      " [621.4816901 ]\n",
      " [712.39018069]\n",
      " [697.55599653]\n",
      " [617.17253658]\n",
      " [682.17641891]\n",
      " [517.66705898]\n",
      " [450.27465556]\n",
      " [637.34632567]\n",
      " [332.56349153]\n",
      " [482.91930587]\n",
      " [569.12015007]\n",
      " [233.24120205]\n",
      " [512.04147062]\n",
      " [519.29058662]\n",
      " [543.54753566]\n",
      " [675.69213094]\n",
      " [851.11190117]\n",
      " [563.26784558]\n",
      " [467.07078998]\n",
      " [723.5489163 ]\n",
      " [491.02392866]\n",
      " [353.96011461]\n",
      " [443.60367302]\n",
      " [716.52040655]\n",
      " [572.76262035]\n",
      " [821.92368464]\n",
      " [522.19812527]\n",
      " [474.91920327]\n",
      " [547.10397164]\n",
      " [759.98172938]\n",
      " [670.35861433]\n",
      " [433.6645277 ]\n",
      " [721.18920202]\n",
      " [452.6630529 ]\n",
      " [686.76267649]\n",
      " [555.10641112]\n",
      " [663.35156761]\n",
      " [369.99191283]\n",
      " [886.02628593]\n",
      " [439.54315785]\n",
      " [633.53454452]\n",
      " [415.65765198]\n",
      " [716.54091796]\n",
      " [657.08341188]\n",
      " [381.68134015]\n",
      " [450.96046663]\n",
      " [495.84821995]\n",
      " [519.8383287 ]\n",
      " [520.04040175]\n",
      " [482.12275879]\n",
      " [408.44609022]\n",
      " [423.14579414]\n",
      " [620.2085712 ]\n",
      " [234.31171046]\n",
      " [645.21311994]\n",
      " [522.41532554]\n",
      " [605.57589038]\n",
      " [507.47504459]\n",
      " [520.59585045]\n",
      " [714.6674867 ]\n",
      " [440.02316264]\n",
      " [314.14289249]\n",
      " [658.55812436]\n",
      " [441.88104122]\n",
      " [379.82989831]\n",
      " [ 73.90204946]\n",
      " [ 53.44843083]\n",
      " [248.36669701]\n",
      " [830.81179134]\n",
      " [468.32560098]\n",
      " [454.87103642]\n",
      " [372.00975832]\n",
      " [317.0181631 ]\n",
      " [575.84339134]\n",
      " [795.58324807]\n",
      " [736.7123685 ]\n",
      " [562.41340663]\n",
      " [654.39325399]\n",
      " [931.25883432]\n",
      " [492.05401597]\n",
      " [629.58955784]\n",
      " [995.65450588]\n",
      " [207.03733858]\n",
      " [705.87442576]\n",
      " [327.99581215]\n",
      " [449.35271697]\n",
      " [766.62877758]\n",
      " [433.44961196]\n",
      " [531.71161644]\n",
      " [502.03395296]\n",
      " [457.10357738]\n",
      " [585.67555754]\n",
      " [311.01857044]\n",
      " [136.91790522]\n",
      " [629.85309309]\n",
      " [536.49897367]\n",
      " [352.09719983]\n",
      " [755.9451096 ]\n",
      " [567.82771407]\n",
      " [664.52235016]\n",
      " [418.92308237]\n",
      " [442.43547066]\n",
      " [565.85008088]\n",
      " [617.59197259]\n",
      " [287.69670732]\n",
      " [568.84015093]\n",
      " [676.73289785]\n",
      " [369.67209249]\n",
      " [683.28365573]\n",
      " [413.56859644]\n",
      " [396.95626674]\n",
      " [456.8756414 ]\n",
      " [586.28146033]\n",
      " [354.52927199]\n",
      " [555.20204965]\n",
      " [358.12044291]\n",
      " [555.45439379]\n",
      " [453.64842625]\n",
      " [313.97155986]\n",
      " [693.36676616]\n",
      " [310.37686236]\n",
      " [596.4810534 ]\n",
      " [333.26925434]\n",
      " [511.93496616]\n",
      " [142.15116493]\n",
      " [750.99494523]]\n"
     ]
    }
   ],
   "source": [
    "print(y_pred)"
   ]
  },
  {
   "cell_type": "code",
   "execution_count": 19,
   "id": "b3f76e11",
   "metadata": {},
   "outputs": [
    {
     "name": "stdout",
     "output_type": "stream",
     "text": [
      "        Revenue\n",
      "129  751.054570\n",
      "280  607.839194\n",
      "440  684.158444\n",
      "384  583.855231\n",
      "225  528.116240\n",
      "..          ...\n",
      "16   648.209998\n",
      "224  268.929179\n",
      "447  493.420219\n",
      "229  118.812150\n",
      "308  756.037702\n",
      "\n",
      "[400 rows x 1 columns]\n"
     ]
    }
   ],
   "source": [
    "print(y_test)"
   ]
  },
  {
   "cell_type": "markdown",
   "id": "b5f31941",
   "metadata": {},
   "source": [
    "# Step: 06 Test the Model"
   ]
  },
  {
   "cell_type": "code",
   "execution_count": 20,
   "id": "2eac2382",
   "metadata": {},
   "outputs": [
    {
     "data": {
      "image/png": "[encoded data removed]",
      "text/plain": [
       "<Figure size 432x288 with 1 Axes>"
      ]
     },
     "metadata": {
      "needs_background": "light"
     },
     "output_type": "display_data"
    }
   ],
   "source": [
    "plt.scatter(X_train, y_train, color = 'Blue')\n",
    "plt.plot(X_train, regressor.predict(X_train) , color = 'red')\n",
    "plt.title(\"Temperature and Revenue relation\")\n",
    "plt.xlabel('Temperature')\n",
    "plt.ylabel('Revenue')\n",
    "plt.show()"
   ]
  },
  {
   "cell_type": "code",
   "execution_count": 21,
   "id": "ee0e8cc6",
   "metadata": {},
   "outputs": [
    {
     "name": "stdout",
     "output_type": "stream",
     "text": [
      "[[890.96494198]]\n"
     ]
    }
   ],
   "source": [
    "#prediction at specific value\n",
    "#prediction project success!\n",
    "\n",
    "\n",
    "print(regressor.predict([[40]]))"
   ]
  },
  {
   "cell_type": "code",
   "execution_count": 22,
   "id": "11d4f42c",
   "metadata": {},
   "outputs": [
    {
     "data": {
      "image/png": "[encoded data removed]",
      "text/plain": [
       "<Figure size 432x288 with 1 Axes>"
      ]
     },
     "metadata": {
      "needs_background": "light"
     },
     "output_type": "display_data"
    }
   ],
   "source": [
    "plt.scatter(X_test, y_test, color = 'Blue')\n",
    "plt.plot(X_test, regressor.predict(X_test) , color = 'red')\n",
    "plt.title(\"Temperature and Revenue relation\")\n",
    "plt.xlabel('Temperature')\n",
    "plt.ylabel('Revenue')\n",
    "plt.show()"
   ]
  },
  {
   "cell_type": "code",
   "execution_count": 23,
   "id": "46da8d6b",
   "metadata": {},
   "outputs": [],
   "source": [
    "#Add data in \"regressor.pridict([[40]])\" and start predicting the revenue"
   ]
  },
  {
   "cell_type": "code",
   "execution_count": null,
   "id": "d649df83",
   "metadata": {},
   "outputs": [],
   "source": []
  }
 ],
 "metadata": {
  "kernelspec": {
   "display_name": "Python 3",
   "language": "python",
   "name": "python3"
  },
  "language_info": {
   "codemirror_mode": {
    "name": "ipython",
    "version": 3
   },
   "file_extension": ".py",
   "mimetype": "text/x-python",
   "name": "python",
   "nbconvert_exporter": "python",
   "pygments_lexer": "ipython3",
   "version": "3.8.8"
  }
 },
 "nbformat": 4,
 "nbformat_minor": 5
}
