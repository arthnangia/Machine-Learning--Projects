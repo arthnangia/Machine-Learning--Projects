{
 "cells": [
  {
   "cell_type": "markdown",
   "id": "4ea997e9",
   "metadata": {},
   "source": [
    "# Simple Regression"
   ]
  },
  {
   "cell_type": "markdown",
   "id": "e3695afb",
   "metadata": {},
   "source": [
    "# Problem Statement\n",
    "\n",
    "You own an ice cream business and you would like to create a model that could predict the daily revenue in dollars based on the outside air temperature (degC). \n",
    "\n",
    "**Model Used:** Linear Regression model\n",
    "\n",
    "**Data set:** https://drive.google.com/file/d/1nbFloBk5HyRqBBIBk8cehyGP4G-Fonk5/view?usp=sharing\n",
    "\n",
    "**Independant variable X:** Outside Air Temperature\n",
    "\n",
    "**Dependant variable Y:** Overall daily revenue generated in dollars"
   ]
  },
  {
   "cell_type": "markdown",
   "id": "ffa45767",
   "metadata": {},
   "source": [
    "# Step: 01 Import Libraries"
   ]
  },
  {
   "cell_type": "code",
   "execution_count": 1,
   "id": "edf928cb",
   "metadata": {},
   "outputs": [],
   "source": [
    "import numpy as np\n",
    "import pandas as pd\n",
    "import matplotlib.pyplot as plt\n",
    "import seaborn as sns"
   ]
  },
  {
   "cell_type": "markdown",
   "id": "453d536b",
   "metadata": {},
   "source": [
    "# Step: 02 Import DataSet\n",
    "\n",
    "1. Download the dataset from the above link\n",
    "2. Change the location of dataset in the below snipet."
   ]
  },
  {
   "cell_type": "code",
   "execution_count": 2,
   "id": "a934fcfd",
   "metadata": {},
   "outputs": [],
   "source": [
    "dataset = pd.read_csv(\"C:/Users/hp/Documents/Machine Learning (Projects)/1. Supervised Learning/1. Regression/IceCreamData.csv\")"
   ]
  },
  {
   "cell_type": "code",
   "execution_count": 3,
   "id": "e38926b2",
   "metadata": {},
   "outputs": [
    {
     "name": "stdout",
     "output_type": "stream",
     "text": [
      "     Temperature     Revenue\n",
      "0      24.566884  534.799028\n",
      "1      26.005191  625.190122\n",
      "2      27.790554  660.632289\n",
      "3      20.595335  487.706960\n",
      "4      11.503498  316.240194\n",
      "..           ...         ...\n",
      "495    22.274899  524.746364\n",
      "496    32.893092  755.818399\n",
      "497    12.588157  306.090719\n",
      "498    22.362402  566.217304\n",
      "499    28.957736  655.660388\n",
      "\n",
      "[500 rows x 2 columns]\n"
     ]
    }
   ],
   "source": [
    "#verifing if dataset loaded is correct\n",
    "print(dataset)"
   ]
  },
  {
   "cell_type": "code",
   "execution_count": 8,
   "id": "057391cc",
   "metadata": {},
   "outputs": [
    {
     "data": {
      "text/html": [
       "<div>\n",
       "<style scoped>\n",
       "    .dataframe tbody tr th:only-of-type {\n",
       "        vertical-align: middle;\n",
       "    }\n",
       "\n",
       "    .dataframe tbody tr th {\n",
       "        vertical-align: top;\n",
       "    }\n",
       "\n",
       "    .dataframe thead th {\n",
       "        text-align: right;\n",
       "    }\n",
       "</style>\n",
       "<table border=\"1\" class=\"dataframe\">\n",
       "  <thead>\n",
       "    <tr style=\"text-align: right;\">\n",
       "      <th></th>\n",
       "      <th>Temperature</th>\n",
       "      <th>Revenue</th>\n",
       "    </tr>\n",
       "  </thead>\n",
       "  <tbody>\n",
       "    <tr>\n",
       "      <th>0</th>\n",
       "      <td>24.566884</td>\n",
       "      <td>534.799028</td>\n",
       "    </tr>\n",
       "    <tr>\n",
       "      <th>1</th>\n",
       "      <td>26.005191</td>\n",
       "      <td>625.190122</td>\n",
       "    </tr>\n",
       "    <tr>\n",
       "      <th>2</th>\n",
       "      <td>27.790554</td>\n",
       "      <td>660.632289</td>\n",
       "    </tr>\n",
       "    <tr>\n",
       "      <th>3</th>\n",
       "      <td>20.595335</td>\n",
       "      <td>487.706960</td>\n",
       "    </tr>\n",
       "    <tr>\n",
       "      <th>4</th>\n",
       "      <td>11.503498</td>\n",
       "      <td>316.240194</td>\n",
       "    </tr>\n",
       "    <tr>\n",
       "      <th>5</th>\n",
       "      <td>14.352514</td>\n",
       "      <td>367.940744</td>\n",
       "    </tr>\n",
       "  </tbody>\n",
       "</table>\n",
       "</div>"
      ],
      "text/plain": [
       "   Temperature     Revenue\n",
       "0    24.566884  534.799028\n",
       "1    26.005191  625.190122\n",
       "2    27.790554  660.632289\n",
       "3    20.595335  487.706960\n",
       "4    11.503498  316.240194\n",
       "5    14.352514  367.940744"
      ]
     },
     "execution_count": 8,
     "metadata": {},
     "output_type": "execute_result"
    }
   ],
   "source": [
    "dataset.head(6)\n"
   ]
  },
  {
   "cell_type": "code",
   "execution_count": 13,
   "id": "c3d44d85",
   "metadata": {},
   "outputs": [
    {
     "data": {
      "text/html": [
       "<div>\n",
       "<style scoped>\n",
       "    .dataframe tbody tr th:only-of-type {\n",
       "        vertical-align: middle;\n",
       "    }\n",
       "\n",
       "    .dataframe tbody tr th {\n",
       "        vertical-align: top;\n",
       "    }\n",
       "\n",
       "    .dataframe thead th {\n",
       "        text-align: right;\n",
       "    }\n",
       "</style>\n",
       "<table border=\"1\" class=\"dataframe\">\n",
       "  <thead>\n",
       "    <tr style=\"text-align: right;\">\n",
       "      <th></th>\n",
       "      <th>Temperature</th>\n",
       "      <th>Revenue</th>\n",
       "    </tr>\n",
       "  </thead>\n",
       "  <tbody>\n",
       "    <tr>\n",
       "      <th>count</th>\n",
       "      <td>500.000000</td>\n",
       "      <td>500.000000</td>\n",
       "    </tr>\n",
       "    <tr>\n",
       "      <th>mean</th>\n",
       "      <td>22.232225</td>\n",
       "      <td>521.570777</td>\n",
       "    </tr>\n",
       "    <tr>\n",
       "      <th>std</th>\n",
       "      <td>8.096388</td>\n",
       "      <td>175.404751</td>\n",
       "    </tr>\n",
       "    <tr>\n",
       "      <th>min</th>\n",
       "      <td>0.000000</td>\n",
       "      <td>10.000000</td>\n",
       "    </tr>\n",
       "    <tr>\n",
       "      <th>25%</th>\n",
       "      <td>17.122258</td>\n",
       "      <td>405.558681</td>\n",
       "    </tr>\n",
       "    <tr>\n",
       "      <th>50%</th>\n",
       "      <td>22.392791</td>\n",
       "      <td>529.368565</td>\n",
       "    </tr>\n",
       "    <tr>\n",
       "      <th>75%</th>\n",
       "      <td>27.740674</td>\n",
       "      <td>642.257922</td>\n",
       "    </tr>\n",
       "    <tr>\n",
       "      <th>max</th>\n",
       "      <td>45.000000</td>\n",
       "      <td>1000.000000</td>\n",
       "    </tr>\n",
       "  </tbody>\n",
       "</table>\n",
       "</div>"
      ],
      "text/plain": [
       "       Temperature      Revenue\n",
       "count   500.000000   500.000000\n",
       "mean     22.232225   521.570777\n",
       "std       8.096388   175.404751\n",
       "min       0.000000    10.000000\n",
       "25%      17.122258   405.558681\n",
       "50%      22.392791   529.368565\n",
       "75%      27.740674   642.257922\n",
       "max      45.000000  1000.000000"
      ]
     },
     "execution_count": 13,
     "metadata": {},
     "output_type": "execute_result"
    }
   ],
   "source": [
    "#finding insights to observe\n",
    "dataset.describe()"
   ]
  },
  {
   "cell_type": "code",
   "execution_count": 14,
   "id": "f5b69960",
   "metadata": {},
   "outputs": [
    {
     "name": "stdout",
     "output_type": "stream",
     "text": [
      "<class 'pandas.core.frame.DataFrame'>\n",
      "RangeIndex: 500 entries, 0 to 499\n",
      "Data columns (total 2 columns):\n",
      " #   Column       Non-Null Count  Dtype  \n",
      "---  ------       --------------  -----  \n",
      " 0   Temperature  500 non-null    float64\n",
      " 1   Revenue      500 non-null    float64\n",
      "dtypes: float64(2)\n",
      "memory usage: 7.9 KB\n"
     ]
    }
   ],
   "source": [
    "dataset.info()"
   ]
  },
  {
   "cell_type": "markdown",
   "id": "4aacf8e6",
   "metadata": {},
   "source": [
    "# Step: 03 Visualize Dataset"
   ]
  },
  {
   "cell_type": "code",
   "execution_count": 15,
   "id": "bfaaab38",
   "metadata": {},
   "outputs": [
    {
     "data": {
      "text/plain": [
       "<AxesSubplot:xlabel='Temperature', ylabel='Revenue'>"
      ]
     },
     "execution_count": 15,
     "metadata": {},
     "output_type": "execute_result"
    },
    {
     "data": {
      "image/png": "[encoded data removed]",
      "text/plain": [
       "<Figure size 432x288 with 1 Axes>"
      ]
     },
     "metadata": {
      "needs_background": "light"
     },
     "output_type": "display_data"
    }
   ],
   "source": [
    "sns.lineplot(x ='Temperature', y ='Revenue', data = dataset, color = 'blue')"
   ]
  },
  {
   "cell_type": "markdown",
   "id": "9fab9d37",
   "metadata": {},
   "source": [
    "# Step: 04 Creating Testing & Training Data"
   ]
  },
  {
   "cell_type": "code",
   "execution_count": 16,
   "id": "4e03a7ae",
   "metadata": {},
   "outputs": [],
   "source": [
    "x = dataset.iloc[: , :-1]\n",
    "y = dataset.iloc[: , 1: ]"
   ]
  },
  {
   "cell_type": "code",
   "execution_count": 18,
   "id": "cb305e55",
   "metadata": {},
   "outputs": [
    {
     "data": {
      "text/html": [
       "<div>\n",
       "<style scoped>\n",
       "    .dataframe tbody tr th:only-of-type {\n",
       "        vertical-align: middle;\n",
       "    }\n",
       "\n",
       "    .dataframe tbody tr th {\n",
       "        vertical-align: top;\n",
       "    }\n",
       "\n",
       "    .dataframe thead th {\n",
       "        text-align: right;\n",
       "    }\n",
       "</style>\n",
       "<table border=\"1\" class=\"dataframe\">\n",
       "  <thead>\n",
       "    <tr style=\"text-align: right;\">\n",
       "      <th></th>\n",
       "      <th>Revenue</th>\n",
       "    </tr>\n",
       "  </thead>\n",
       "  <tbody>\n",
       "    <tr>\n",
       "      <th>0</th>\n",
       "      <td>534.799028</td>\n",
       "    </tr>\n",
       "    <tr>\n",
       "      <th>1</th>\n",
       "      <td>625.190122</td>\n",
       "    </tr>\n",
       "    <tr>\n",
       "      <th>2</th>\n",
       "      <td>660.632289</td>\n",
       "    </tr>\n",
       "    <tr>\n",
       "      <th>3</th>\n",
       "      <td>487.706960</td>\n",
       "    </tr>\n",
       "    <tr>\n",
       "      <th>4</th>\n",
       "      <td>316.240194</td>\n",
       "    </tr>\n",
       "    <tr>\n",
       "      <th>...</th>\n",
       "      <td>...</td>\n",
       "    </tr>\n",
       "    <tr>\n",
       "      <th>495</th>\n",
       "      <td>524.746364</td>\n",
       "    </tr>\n",
       "    <tr>\n",
       "      <th>496</th>\n",
       "      <td>755.818399</td>\n",
       "    </tr>\n",
       "    <tr>\n",
       "      <th>497</th>\n",
       "      <td>306.090719</td>\n",
       "    </tr>\n",
       "    <tr>\n",
       "      <th>498</th>\n",
       "      <td>566.217304</td>\n",
       "    </tr>\n",
       "    <tr>\n",
       "      <th>499</th>\n",
       "      <td>655.660388</td>\n",
       "    </tr>\n",
       "  </tbody>\n",
       "</table>\n",
       "<p>500 rows × 1 columns</p>\n",
       "</div>"
      ],
      "text/plain": [
       "        Revenue\n",
       "0    534.799028\n",
       "1    625.190122\n",
       "2    660.632289\n",
       "3    487.706960\n",
       "4    316.240194\n",
       "..          ...\n",
       "495  524.746364\n",
       "496  755.818399\n",
       "497  306.090719\n",
       "498  566.217304\n",
       "499  655.660388\n",
       "\n",
       "[500 rows x 1 columns]"
      ]
     },
     "execution_count": 18,
     "metadata": {},
     "output_type": "execute_result"
    }
   ],
   "source": [
    "y"
   ]
  },
  {
   "cell_type": "code",
   "execution_count": 19,
   "id": "74553b49",
   "metadata": {},
   "outputs": [
    {
     "name": "stdout",
     "output_type": "stream",
     "text": [
      "     Temperature\n",
      "0      24.566884\n",
      "1      26.005191\n",
      "2      27.790554\n",
      "3      20.595335\n",
      "4      11.503498\n",
      "..           ...\n",
      "495    22.274899\n",
      "496    32.893092\n",
      "497    12.588157\n",
      "498    22.362402\n",
      "499    28.957736\n",
      "\n",
      "[500 rows x 1 columns]\n"
     ]
    }
   ],
   "source": [
    "print(x)"
   ]
  },
  {
   "cell_type": "code",
   "execution_count": 20,
   "id": "a5f6f134",
   "metadata": {},
   "outputs": [
    {
     "name": "stdout",
     "output_type": "stream",
     "text": [
      "        Revenue\n",
      "0    534.799028\n",
      "1    625.190122\n",
      "2    660.632289\n",
      "3    487.706960\n",
      "4    316.240194\n",
      "..          ...\n",
      "495  524.746364\n",
      "496  755.818399\n",
      "497  306.090719\n",
      "498  566.217304\n",
      "499  655.660388\n",
      "\n",
      "[500 rows x 1 columns]\n"
     ]
    }
   ],
   "source": [
    "print(y)"
   ]
  },
  {
   "cell_type": "code",
   "execution_count": 33,
   "id": "8a559c49",
   "metadata": {},
   "outputs": [],
   "source": [
    "from sklearn.model_selection import train_test_split\n",
    "\n",
    "X_train, X_test, y_train, y_test = train_test_split (x, y , test_size = 0.8 , random_state = 2)"
   ]
  },
  {
   "cell_type": "markdown",
   "id": "3dd4e533",
   "metadata": {},
   "source": [
    "# Step: 05 Training the Model"
   ]
  },
  {
   "cell_type": "code",
   "execution_count": 23,
   "id": "07a972df",
   "metadata": {},
   "outputs": [
    {
     "data": {
      "text/plain": [
       "LinearRegression()"
      ]
     },
     "execution_count": 23,
     "metadata": {},
     "output_type": "execute_result"
    }
   ],
   "source": [
    "from sklearn.linear_model import LinearRegression\n",
    "\n",
    "regressor = LinearRegression()\n",
    "regressor.fit(X_train,y_train)"
   ]
  },
  {
   "cell_type": "code",
   "execution_count": 24,
   "id": "bd40fadf",
   "metadata": {},
   "outputs": [],
   "source": [
    "y_pred = regressor.predict(X_test)"
   ]
  },
  {
   "cell_type": "code",
   "execution_count": 26,
   "id": "9d31a09c",
   "metadata": {},
   "outputs": [
    {
     "name": "stdout",
     "output_type": "stream",
     "text": [
      "[[737.28433929]\n",
      " [655.34210146]\n",
      " [710.19407285]\n",
      " [582.46017191]\n",
      " [507.28680014]\n",
      " [486.3876242 ]\n",
      " [602.74925187]\n",
      " [387.04219595]\n",
      " [797.09818519]\n",
      " [596.7684118 ]\n",
      " [511.81182359]\n",
      " [520.3750202 ]\n",
      " [283.58088772]\n",
      " [484.50622135]\n",
      " [672.15197649]\n",
      " [590.28331158]\n",
      " [495.11420717]\n",
      " [493.52056999]\n",
      " [659.28182521]\n",
      " [502.62421805]\n",
      " [570.24340507]\n",
      " [354.27310522]\n",
      " [253.08350026]\n",
      " [285.70425206]\n",
      " [186.60897774]\n",
      " [368.06474551]\n",
      " [679.38656114]\n",
      " [446.73489391]\n",
      " [364.57939171]\n",
      " [591.04601232]\n",
      " [473.86776845]\n",
      " [479.63816308]\n",
      " [606.73640118]\n",
      " [551.13094146]\n",
      " [622.8249753 ]\n",
      " [400.75348218]\n",
      " [486.25215732]\n",
      " [585.34974034]\n",
      " [262.60143898]\n",
      " [547.31477448]\n",
      " [531.07744425]\n",
      " [557.3464592 ]\n",
      " [410.16005859]\n",
      " [671.26661891]\n",
      " [630.7080707 ]\n",
      " [677.64854871]\n",
      " [457.30789262]\n",
      " [270.09524251]\n",
      " [466.28144952]\n",
      " [527.43538023]\n",
      " [708.79901269]\n",
      " [661.00779647]\n",
      " [417.91816957]\n",
      " [477.62829448]\n",
      " [588.38581298]\n",
      " [744.82354441]\n",
      " [234.68385401]\n",
      " [296.76671218]\n",
      " [750.02257043]\n",
      " [651.78758079]\n",
      " [305.92815815]\n",
      " [738.08564766]\n",
      " [498.81093372]\n",
      " [520.24092364]\n",
      " [524.86114116]\n",
      " [510.7825355 ]\n",
      " [444.47432266]\n",
      " [470.44827743]\n",
      " [538.56849941]\n",
      " [452.49751745]\n",
      " [233.9269748 ]\n",
      " [592.93034166]\n",
      " [318.36582809]\n",
      " [571.6042904 ]\n",
      " [439.00214881]\n",
      " [308.98293315]\n",
      " [448.12588902]\n",
      " [892.1411615 ]\n",
      " [610.34671225]\n",
      " [414.24517364]\n",
      " [939.75081414]\n",
      " [599.77193075]\n",
      " [479.19074809]\n",
      " [448.94462349]\n",
      " [537.21779658]\n",
      " [757.6729993 ]\n",
      " [378.58549095]\n",
      " [474.69987189]\n",
      " [421.26098821]\n",
      " [549.13186193]\n",
      " [640.92289803]\n",
      " [452.50412667]\n",
      " [508.7874511 ]\n",
      " [424.28493136]\n",
      " [604.31467151]\n",
      " [361.70830647]\n",
      " [673.45389241]\n",
      " [891.56911809]\n",
      " [696.87946428]\n",
      " [675.98900406]]\n"
     ]
    }
   ],
   "source": [
    "print(y_pred)"
   ]
  },
  {
   "cell_type": "code",
   "execution_count": 27,
   "id": "b3f76e11",
   "metadata": {},
   "outputs": [
    {
     "name": "stdout",
     "output_type": "stream",
     "text": [
      "        Revenue\n",
      "129  751.054570\n",
      "280  607.839194\n",
      "440  684.158444\n",
      "384  583.855231\n",
      "225  528.116240\n",
      "..          ...\n",
      "387  322.983977\n",
      "117  719.471701\n",
      "468  898.805423\n",
      "395  690.789296\n",
      "146  618.235765\n",
      "\n",
      "[100 rows x 1 columns]\n"
     ]
    }
   ],
   "source": [
    "print(y_test)"
   ]
  },
  {
   "cell_type": "markdown",
   "id": "b5f31941",
   "metadata": {},
   "source": [
    "# Step: 06 Test the Model"
   ]
  },
  {
   "cell_type": "code",
   "execution_count": 38,
   "id": "2eac2382",
   "metadata": {},
   "outputs": [
    {
     "data": {
      "image/png": "[encoded data removed]",
      "text/plain": [
       "<Figure size 432x288 with 1 Axes>"
      ]
     },
     "metadata": {
      "needs_background": "light"
     },
     "output_type": "display_data"
    }
   ],
   "source": [
    "plt.scatter(X_train, y_train, color = 'Blue')\n",
    "plt.plot(X_train, regressor.predict(X_train) , color = 'red')\n",
    "plt.title(\"Temperature and Revenue relation\")\n",
    "plt.xlabel('Temperature')\n",
    "plt.ylabel('Revenue')\n",
    "plt.show()"
   ]
  },
  {
   "cell_type": "code",
   "execution_count": 47,
   "id": "ee0e8cc6",
   "metadata": {},
   "outputs": [
    {
     "name": "stdout",
     "output_type": "stream",
     "text": [
      "[[901.978575]]\n"
     ]
    }
   ],
   "source": [
    "#prediction at specific value\n",
    "#prediction project success!\n",
    "\n",
    "\n",
    "print(regressor.predict([[40]]))"
   ]
  },
  {
   "cell_type": "code",
   "execution_count": 41,
   "id": "11d4f42c",
   "metadata": {},
   "outputs": [
    {
     "data": {
      "image/png": "[encoded data removed]",
      "text/plain": [
       "<Figure size 432x288 with 1 Axes>"
      ]
     },
     "metadata": {
      "needs_background": "light"
     },
     "output_type": "display_data"
    }
   ],
   "source": [
    "plt.scatter(X_test, y_test, color = 'Blue')\n",
    "plt.plot(X_test, regressor.predict(X_test) , color = 'red')\n",
    "plt.title(\"Temperature and Revenue relation\")\n",
    "plt.xlabel('Temperature')\n",
    "plt.ylabel('Revenue')\n",
    "plt.show()"
   ]
  },
  {
   "cell_type": "code",
   "execution_count": null,
   "id": "46da8d6b",
   "metadata": {},
   "outputs": [],
   "source": [
    "#Add data in \"regressor.pridict([[40]])\" and start predicting the revenue"
   ]
  }
 ],
 "metadata": {
  "kernelspec": {
   "display_name": "Python 3",
   "language": "python",
   "name": "python3"
  },
  "language_info": {
   "codemirror_mode": {
    "name": "ipython",
    "version": 3
   },
   "file_extension": ".py",
   "mimetype": "text/x-python",
   "name": "python",
   "nbconvert_exporter": "python",
   "pygments_lexer": "ipython3",
   "version": "3.8.8"
  }
 },
 "nbformat": 4,
 "nbformat_minor": 5
}
